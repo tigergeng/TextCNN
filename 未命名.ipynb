{
 "cells": [
  {
   "cell_type": "code",
   "execution_count": null,
   "metadata": {},
   "outputs": [],
   "source": [
    "def read_lines(path):\n",
    "    \"\"\"\n",
    "    {\"label\": \"102\", \n",
    "    \"label_desc\": \"news_entertainment\", \n",
    "    \"sentence\": \"江疏影甜甜圈自拍，迷之角度竟这么好看，美吸引一切事物\", \n",
    "    \"keywords\": \"江疏影,美少女,经纪人,甜甜圈\"}\n",
    "    \"\"\"\n",
    "    with open(path, 'r') as f:\n",
    "        for line in f:\n",
    "            print(json.load(line))"
   ]
  }
 ],
 "metadata": {
  "language_info": {
   "codemirror_mode": {
    "name": "ipython",
    "version": 3
   },
   "file_extension": ".py",
   "mimetype": "text/x-python",
   "name": "python",
   "nbconvert_exporter": "python",
   "pygments_lexer": "ipython3",
   "version": 3
  },
  "orig_nbformat": 2
 },
 "nbformat": 4,
 "nbformat_minor": 2
}